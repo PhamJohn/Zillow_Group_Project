{
 "cells": [
  {
   "cell_type": "code",
   "execution_count": 1,
   "id": "36b3693a",
   "metadata": {},
   "outputs": [],
   "source": [
    "import pandas as pd"
   ]
  },
  {
   "cell_type": "code",
   "execution_count": 2,
   "id": "d18e89a4",
   "metadata": {},
   "outputs": [],
   "source": [
    "# Define paths to 3 files\n",
    "us_total_path = 'resources/us_total_final.csv'\n",
    "ca_state_path = 'resources/ca_state_final.csv'\n",
    "ca_city_path = 'resources/california_city_final.csv'"
   ]
  },
  {
   "cell_type": "code",
   "execution_count": 3,
   "id": "3d177196",
   "metadata": {},
   "outputs": [],
   "source": [
    "# Create 3 dataframes\n",
    "df_us = pd.read_csv(us_total_path)\n",
    "df_ca_state = pd.read_csv(ca_state_path)\n",
    "df_ca_city = pd.read_csv(ca_city_path)"
   ]
  },
  {
   "cell_type": "code",
   "execution_count": 4,
   "id": "4d762b45",
   "metadata": {},
   "outputs": [],
   "source": [
    "# Create region_date column as id column\n",
    "df_us['region_date'] = df_us.apply(lambda row: row.region_name.lower().replace(\" \",\"\").split(\",\")[0] + row.date.replace(\"-\",\"\"), axis=1)\n",
    "df_ca_state['region_date'] = df_ca_state.apply(lambda row: row.region_name.lower().replace(\" \",\"\").split(\",\")[0] + row.date.replace(\"-\",\"\"), axis=1)\n",
    "df_ca_city['region_date'] = df_ca_city.apply(lambda row: row.region_name.lower().replace(\" \",\"\").split(\",\")[0] + row.date.replace(\"-\",\"\"), axis=1)"
   ]
  },
  {
   "cell_type": "code",
   "execution_count": 5,
   "id": "79c15a9d",
   "metadata": {},
   "outputs": [],
   "source": [
    "# Reorder columns to put primary key at start\n",
    "reordered_columns = ['region_date', 'date', 'size_rank', 'region_name', 'latitude', 'longitude', 'list_price', 'sale_price', 'list_divided_by_sale', 'list_minus_sale']\n",
    "\n",
    "df_us = df_us[reordered_columns]\n",
    "df_ca_state = df_ca_state[reordered_columns]\n",
    "df_ca_city = df_ca_city[reordered_columns]"
   ]
  },
  {
   "cell_type": "code",
   "execution_count": 6,
   "id": "02233365",
   "metadata": {},
   "outputs": [],
   "source": [
    "# Save to csv\n",
    "df_us.to_csv(us_total_path, index=False)\n",
    "df_ca_state.to_csv(ca_state_path, index=False)\n",
    "df_ca_city.to_csv(ca_city_path, index=False)"
   ]
  },
  {
   "cell_type": "code",
   "execution_count": null,
   "id": "2a7cf221",
   "metadata": {},
   "outputs": [],
   "source": []
  }
 ],
 "metadata": {
  "kernelspec": {
   "display_name": "mlenv",
   "language": "python",
   "name": "mlenv"
  },
  "language_info": {
   "codemirror_mode": {
    "name": "ipython",
    "version": 3
   },
   "file_extension": ".py",
   "mimetype": "text/x-python",
   "name": "python",
   "nbconvert_exporter": "python",
   "pygments_lexer": "ipython3",
   "version": "3.7.10"
  }
 },
 "nbformat": 4,
 "nbformat_minor": 5
}
