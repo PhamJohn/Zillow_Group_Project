{
 "cells": [
  {
   "cell_type": "code",
   "execution_count": 40,
   "id": "ff177fc4",
   "metadata": {},
   "outputs": [],
   "source": [
    "import pandas as pd\n",
    "\n",
    "from geopy.geocoders import Nominatim"
   ]
  },
  {
   "cell_type": "code",
   "execution_count": 41,
   "id": "49c33ec9",
   "metadata": {},
   "outputs": [],
   "source": [
    "# Solution from to get lat long from location name from https://stackoverflow.com/questions/13686001/python-module-for-getting-latitude-and-longitude-from-the-name-of-a-us-city\n",
    "geolocator = Nominatim(user_agent='account_name')"
   ]
  },
  {
   "cell_type": "code",
   "execution_count": 3,
   "id": "321dfcd4",
   "metadata": {},
   "outputs": [],
   "source": [
    "us_total_path = \"resources/us_total.csv\"\n",
    "ca_state_path = \"resources/ca_state.csv\"\n",
    "ca_city_path = \"resources/california_city.csv\""
   ]
  },
  {
   "cell_type": "code",
   "execution_count": 4,
   "id": "bd106887",
   "metadata": {},
   "outputs": [],
   "source": [
    "us_total_df = pd.read_csv(us_total_path)\n",
    "ca_state_df = pd.read_csv(ca_state_path)\n",
    "ca_city_df = pd.read_csv(ca_city_path)"
   ]
  },
  {
   "cell_type": "code",
   "execution_count": 5,
   "id": "6d8d5791",
   "metadata": {},
   "outputs": [],
   "source": [
    "us_dict = us_total_df.to_dict()\n",
    "ca_state_dict = ca_state_df.to_dict()\n",
    "ca_city_dict = ca_city_df.to_dict()"
   ]
  },
  {
   "cell_type": "code",
   "execution_count": 25,
   "id": "129ded2f",
   "metadata": {},
   "outputs": [],
   "source": [
    "us_dict['latitude'] = {}\n",
    "us_dict['longitude'] = {}"
   ]
  },
  {
   "cell_type": "code",
   "execution_count": 26,
   "id": "a5154173",
   "metadata": {},
   "outputs": [],
   "source": [
    "ca_state_dict['latitude'] = {}\n",
    "ca_state_dict['longitude'] = {}"
   ]
  },
  {
   "cell_type": "code",
   "execution_count": 48,
   "id": "27a45b10",
   "metadata": {},
   "outputs": [],
   "source": [
    "ca_city_dict['latitude'] = {}\n",
    "ca_city_dict['longitude'] = {}"
   ]
  },
  {
   "cell_type": "code",
   "execution_count": 28,
   "id": "8707e672",
   "metadata": {},
   "outputs": [],
   "source": [
    "for key in us_dict['region_name']:\n",
    "    us_dict['latitude'][key] = geolocator.geocode(us_dict['region_name'][key]).latitude\n",
    "    us_dict['longitude'][key] = geolocator.geocode(us_dict['region_name'][key]).longitude"
   ]
  },
  {
   "cell_type": "code",
   "execution_count": 29,
   "id": "7e585d27",
   "metadata": {},
   "outputs": [],
   "source": [
    "for key in ca_state_dict['region_name']:\n",
    "    ca_state_dict['latitude'][key] = geolocator.geocode(ca_state_dict['region_name'][key]).latitude\n",
    "    ca_state_dict['longitude'][key] = geolocator.geocode(ca_state_dict['region_name'][key]).longitude"
   ]
  },
  {
   "cell_type": "code",
   "execution_count": null,
   "id": "3360b616",
   "metadata": {},
   "outputs": [],
   "source": [
    "for key in ca_state_dict['region_name']:\n",
    "    ca_city_dict['latitude'][key] = geolocator.geocode(ca_city_dict['region_name'][key]).latitude\n",
    "    ca_city_dict['longitude'][key] = geolocator.geocode(ca_city_dict['region_name'][key]).longitude"
   ]
  },
  {
   "cell_type": "code",
   "execution_count": 32,
   "id": "40987c24",
   "metadata": {},
   "outputs": [],
   "source": [
    "us_total_df = pd.DataFrame(us_dict)\n",
    "ca_state_df = pd.DataFrame(ca_state_dict)\n",
    "ca_city_df = pd.DataFrame(ca_city_dict)"
   ]
  },
  {
   "cell_type": "code",
   "execution_count": 84,
   "id": "d3cdedbc",
   "metadata": {},
   "outputs": [],
   "source": [
    "reordered_columns = ['date', 'size_rank', 'region_name', 'latitude', 'longitude', 'list_price', 'sale_price', 'list_divided_by_sale', 'list_minus_sale']"
   ]
  },
  {
   "cell_type": "code",
   "execution_count": 36,
   "id": "b985c728",
   "metadata": {},
   "outputs": [],
   "source": [
    "us_total_df = us_total_df[reordered_columns]\n",
    "ca_state_df = ca_state_df[reordered_columns]\n",
    "ca_city_df = ca_city_df[reordered_columns]"
   ]
  },
  {
   "cell_type": "code",
   "execution_count": 89,
   "id": "51c980ed",
   "metadata": {
    "scrolled": false
   },
   "outputs": [],
   "source": [
    "us_total_df.to_csv(\"resources/us_total_final.csv\")\n",
    "ca_state_df.to_csv(\"resources/ca_state_final.csv\")\n",
    "ca_city_df.to_csv(\"resources/california_city_final.csv\")"
   ]
  },
  {
   "cell_type": "code",
   "execution_count": null,
   "id": "619799b8",
   "metadata": {},
   "outputs": [],
   "source": []
  }
 ],
 "metadata": {
  "kernelspec": {
   "display_name": "mlenv",
   "language": "python",
   "name": "mlenv"
  },
  "language_info": {
   "codemirror_mode": {
    "name": "ipython",
    "version": 3
   },
   "file_extension": ".py",
   "mimetype": "text/x-python",
   "name": "python",
   "nbconvert_exporter": "python",
   "pygments_lexer": "ipython3",
   "version": "3.7.10"
  }
 },
 "nbformat": 4,
 "nbformat_minor": 5
}
