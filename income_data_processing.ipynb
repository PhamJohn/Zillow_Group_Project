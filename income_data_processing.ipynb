{
 "cells": [
  {
   "cell_type": "code",
   "execution_count": 1,
   "id": "68822b77",
   "metadata": {},
   "outputs": [],
   "source": [
    "import pandas as pd\n",
    "import re\n",
    "from collections import defaultdict"
   ]
  },
  {
   "cell_type": "code",
   "execution_count": 2,
   "id": "e0857d4f",
   "metadata": {},
   "outputs": [],
   "source": [
    "income_file_path = \"resources/state_income_data.csv\""
   ]
  },
  {
   "cell_type": "code",
   "execution_count": 3,
   "id": "60e62b46",
   "metadata": {},
   "outputs": [],
   "source": [
    "income_df = pd.read_csv(income_file_path)"
   ]
  },
  {
   "cell_type": "code",
   "execution_count": 4,
   "id": "a4c0d544",
   "metadata": {},
   "outputs": [
    {
     "data": {
      "text/html": [
       "<div>\n",
       "<style scoped>\n",
       "    .dataframe tbody tr th:only-of-type {\n",
       "        vertical-align: middle;\n",
       "    }\n",
       "\n",
       "    .dataframe tbody tr th {\n",
       "        vertical-align: top;\n",
       "    }\n",
       "\n",
       "    .dataframe thead th {\n",
       "        text-align: right;\n",
       "    }\n",
       "</style>\n",
       "<table border=\"1\" class=\"dataframe\">\n",
       "  <thead>\n",
       "    <tr style=\"text-align: right;\">\n",
       "      <th></th>\n",
       "      <th>State</th>\n",
       "      <th>2019</th>\n",
       "      <th>2018</th>\n",
       "      <th>2017</th>\n",
       "      <th>2016</th>\n",
       "      <th>2015</th>\n",
       "      <th>2014</th>\n",
       "      <th>2013</th>\n",
       "      <th>2012</th>\n",
       "      <th>2011</th>\n",
       "      <th>2010</th>\n",
       "    </tr>\n",
       "  </thead>\n",
       "  <tbody>\n",
       "    <tr>\n",
       "      <th>0</th>\n",
       "      <td>United States</td>\n",
       "      <td>68,703</td>\n",
       "      <td>63,179</td>\n",
       "      <td>61,372</td>\n",
       "      <td>59,039</td>\n",
       "      <td>56,516</td>\n",
       "      <td>53,657</td>\n",
       "      <td>53,585</td>\n",
       "      <td>51,017</td>\n",
       "      <td>50,054</td>\n",
       "      <td>49,276</td>\n",
       "    </tr>\n",
       "    <tr>\n",
       "      <th>1</th>\n",
       "      <td>Alabama</td>\n",
       "      <td>56,200</td>\n",
       "      <td>49,936</td>\n",
       "      <td>51,113</td>\n",
       "      <td>47,221</td>\n",
       "      <td>44,509</td>\n",
       "      <td>42,278</td>\n",
       "      <td>47,320</td>\n",
       "      <td>43,464</td>\n",
       "      <td>42,590</td>\n",
       "      <td>40,933</td>\n",
       "    </tr>\n",
       "    <tr>\n",
       "      <th>2</th>\n",
       "      <td>Alaska</td>\n",
       "      <td>78,394</td>\n",
       "      <td>68,734</td>\n",
       "      <td>72,231</td>\n",
       "      <td>75,723</td>\n",
       "      <td>75,112</td>\n",
       "      <td>67,629</td>\n",
       "      <td>72,472</td>\n",
       "      <td>63,648</td>\n",
       "      <td>57,431</td>\n",
       "      <td>57,848</td>\n",
       "    </tr>\n",
       "    <tr>\n",
       "      <th>3</th>\n",
       "      <td>Arizona</td>\n",
       "      <td>70,674</td>\n",
       "      <td>62,283</td>\n",
       "      <td>61,125</td>\n",
       "      <td>57,100</td>\n",
       "      <td>52,248</td>\n",
       "      <td>49,254</td>\n",
       "      <td>52,611</td>\n",
       "      <td>47,044</td>\n",
       "      <td>48,621</td>\n",
       "      <td>46,896</td>\n",
       "    </tr>\n",
       "    <tr>\n",
       "      <th>4</th>\n",
       "      <td>Arkansas</td>\n",
       "      <td>54,539</td>\n",
       "      <td>49,781</td>\n",
       "      <td>48,829</td>\n",
       "      <td>45,907</td>\n",
       "      <td>42,798</td>\n",
       "      <td>44,922</td>\n",
       "      <td>39,376</td>\n",
       "      <td>39,018</td>\n",
       "      <td>41,302</td>\n",
       "      <td>38,587</td>\n",
       "    </tr>\n",
       "  </tbody>\n",
       "</table>\n",
       "</div>"
      ],
      "text/plain": [
       "           State    2019    2018    2017    2016    2015    2014    2013  \\\n",
       "0  United States  68,703  63,179  61,372  59,039  56,516  53,657  53,585   \n",
       "1        Alabama  56,200  49,936  51,113  47,221  44,509  42,278  47,320   \n",
       "2         Alaska  78,394  68,734  72,231  75,723  75,112  67,629  72,472   \n",
       "3        Arizona  70,674  62,283  61,125  57,100  52,248  49,254  52,611   \n",
       "4       Arkansas  54,539  49,781  48,829  45,907  42,798  44,922  39,376   \n",
       "\n",
       "     2012    2011    2010  \n",
       "0  51,017  50,054  49,276  \n",
       "1  43,464  42,590  40,933  \n",
       "2  63,648  57,431  57,848  \n",
       "3  47,044  48,621  46,896  \n",
       "4  39,018  41,302  38,587  "
      ]
     },
     "execution_count": 4,
     "metadata": {},
     "output_type": "execute_result"
    }
   ],
   "source": [
    "income_df.head()"
   ]
  },
  {
   "cell_type": "code",
   "execution_count": 5,
   "id": "2ea7b10d",
   "metadata": {},
   "outputs": [
    {
     "data": {
      "text/plain": [
       "Index(['State', '2019', '2018', '2017', '2016', '2015', '2014', '2013', '2012',\n",
       "       '2011', '2010'],\n",
       "      dtype='object')"
      ]
     },
     "execution_count": 5,
     "metadata": {},
     "output_type": "execute_result"
    }
   ],
   "source": [
    "income_df.columns"
   ]
  },
  {
   "cell_type": "code",
   "execution_count": 6,
   "id": "752637c1",
   "metadata": {},
   "outputs": [],
   "source": [
    "income_df.rename({\"State\": \"state\"}, \n",
    "          axis = \"columns\", inplace = True)"
   ]
  },
  {
   "cell_type": "code",
   "execution_count": 7,
   "id": "17a1fb6e",
   "metadata": {},
   "outputs": [
    {
     "data": {
      "text/html": [
       "<div>\n",
       "<style scoped>\n",
       "    .dataframe tbody tr th:only-of-type {\n",
       "        vertical-align: middle;\n",
       "    }\n",
       "\n",
       "    .dataframe tbody tr th {\n",
       "        vertical-align: top;\n",
       "    }\n",
       "\n",
       "    .dataframe thead th {\n",
       "        text-align: right;\n",
       "    }\n",
       "</style>\n",
       "<table border=\"1\" class=\"dataframe\">\n",
       "  <thead>\n",
       "    <tr style=\"text-align: right;\">\n",
       "      <th></th>\n",
       "      <th>state</th>\n",
       "      <th>2019</th>\n",
       "      <th>2018</th>\n",
       "      <th>2017</th>\n",
       "      <th>2016</th>\n",
       "      <th>2015</th>\n",
       "      <th>2014</th>\n",
       "      <th>2013</th>\n",
       "      <th>2012</th>\n",
       "      <th>2011</th>\n",
       "      <th>2010</th>\n",
       "    </tr>\n",
       "  </thead>\n",
       "  <tbody>\n",
       "    <tr>\n",
       "      <th>0</th>\n",
       "      <td>United States</td>\n",
       "      <td>68,703</td>\n",
       "      <td>63,179</td>\n",
       "      <td>61,372</td>\n",
       "      <td>59,039</td>\n",
       "      <td>56,516</td>\n",
       "      <td>53,657</td>\n",
       "      <td>53,585</td>\n",
       "      <td>51,017</td>\n",
       "      <td>50,054</td>\n",
       "      <td>49,276</td>\n",
       "    </tr>\n",
       "    <tr>\n",
       "      <th>1</th>\n",
       "      <td>Alabama</td>\n",
       "      <td>56,200</td>\n",
       "      <td>49,936</td>\n",
       "      <td>51,113</td>\n",
       "      <td>47,221</td>\n",
       "      <td>44,509</td>\n",
       "      <td>42,278</td>\n",
       "      <td>47,320</td>\n",
       "      <td>43,464</td>\n",
       "      <td>42,590</td>\n",
       "      <td>40,933</td>\n",
       "    </tr>\n",
       "    <tr>\n",
       "      <th>2</th>\n",
       "      <td>Alaska</td>\n",
       "      <td>78,394</td>\n",
       "      <td>68,734</td>\n",
       "      <td>72,231</td>\n",
       "      <td>75,723</td>\n",
       "      <td>75,112</td>\n",
       "      <td>67,629</td>\n",
       "      <td>72,472</td>\n",
       "      <td>63,648</td>\n",
       "      <td>57,431</td>\n",
       "      <td>57,848</td>\n",
       "    </tr>\n",
       "    <tr>\n",
       "      <th>3</th>\n",
       "      <td>Arizona</td>\n",
       "      <td>70,674</td>\n",
       "      <td>62,283</td>\n",
       "      <td>61,125</td>\n",
       "      <td>57,100</td>\n",
       "      <td>52,248</td>\n",
       "      <td>49,254</td>\n",
       "      <td>52,611</td>\n",
       "      <td>47,044</td>\n",
       "      <td>48,621</td>\n",
       "      <td>46,896</td>\n",
       "    </tr>\n",
       "    <tr>\n",
       "      <th>4</th>\n",
       "      <td>Arkansas</td>\n",
       "      <td>54,539</td>\n",
       "      <td>49,781</td>\n",
       "      <td>48,829</td>\n",
       "      <td>45,907</td>\n",
       "      <td>42,798</td>\n",
       "      <td>44,922</td>\n",
       "      <td>39,376</td>\n",
       "      <td>39,018</td>\n",
       "      <td>41,302</td>\n",
       "      <td>38,587</td>\n",
       "    </tr>\n",
       "  </tbody>\n",
       "</table>\n",
       "</div>"
      ],
      "text/plain": [
       "           state    2019    2018    2017    2016    2015    2014    2013  \\\n",
       "0  United States  68,703  63,179  61,372  59,039  56,516  53,657  53,585   \n",
       "1        Alabama  56,200  49,936  51,113  47,221  44,509  42,278  47,320   \n",
       "2         Alaska  78,394  68,734  72,231  75,723  75,112  67,629  72,472   \n",
       "3        Arizona  70,674  62,283  61,125  57,100  52,248  49,254  52,611   \n",
       "4       Arkansas  54,539  49,781  48,829  45,907  42,798  44,922  39,376   \n",
       "\n",
       "     2012    2011    2010  \n",
       "0  51,017  50,054  49,276  \n",
       "1  43,464  42,590  40,933  \n",
       "2  63,648  57,431  57,848  \n",
       "3  47,044  48,621  46,896  \n",
       "4  39,018  41,302  38,587  "
      ]
     },
     "execution_count": 7,
     "metadata": {},
     "output_type": "execute_result"
    }
   ],
   "source": [
    "income_df.head()"
   ]
  },
  {
   "cell_type": "code",
   "execution_count": 8,
   "id": "a2fb4cbf",
   "metadata": {},
   "outputs": [],
   "source": [
    "def condense_date_columns(df):\n",
    "    # Grab non-date columns from dataframe\n",
    "    non_date_columns = [x for x in df.columns if x[0].isalpha()]\n",
    "    \n",
    "    # Create data and non-date dataframes based on original df\n",
    "    non_date_df = df[non_date_columns]\n",
    "    date_df = df.drop(columns=non_date_columns)\n",
    "    \n",
    "    # Initialize final data dictionary\n",
    "    data = defaultdict(list)\n",
    "    \n",
    "    # Loop through dates\n",
    "    for col_date in date_df.columns:\n",
    "        \n",
    "        # Loop through values for each date\n",
    "        for i, x in enumerate(list(date_df[col_date])):\n",
    "            \n",
    "            # Loop through non-date values\n",
    "            for col_non_date in non_date_df.columns:\n",
    "                \n",
    "                # Append non-date value to non-date column\n",
    "                data[str(col_non_date)].append(non_date_df[col_non_date][i])\n",
    "            \n",
    "            # Append date and price values\n",
    "            data[\"date\"].append(str(col_date))\n",
    "            data[\"income\"].append(float(x.replace(\",\",\"\")))\n",
    "            \n",
    "    return pd.DataFrame(data)"
   ]
  },
  {
   "cell_type": "code",
   "execution_count": 9,
   "id": "88f86c92",
   "metadata": {},
   "outputs": [],
   "source": [
    "final_income_df = condense_date_columns(income_df)"
   ]
  },
  {
   "cell_type": "code",
   "execution_count": 10,
   "id": "1693e359",
   "metadata": {},
   "outputs": [
    {
     "name": "stdout",
     "output_type": "stream",
     "text": [
      "(520, 3)\n"
     ]
    },
    {
     "data": {
      "text/html": [
       "<div>\n",
       "<style scoped>\n",
       "    .dataframe tbody tr th:only-of-type {\n",
       "        vertical-align: middle;\n",
       "    }\n",
       "\n",
       "    .dataframe tbody tr th {\n",
       "        vertical-align: top;\n",
       "    }\n",
       "\n",
       "    .dataframe thead th {\n",
       "        text-align: right;\n",
       "    }\n",
       "</style>\n",
       "<table border=\"1\" class=\"dataframe\">\n",
       "  <thead>\n",
       "    <tr style=\"text-align: right;\">\n",
       "      <th></th>\n",
       "      <th>state</th>\n",
       "      <th>date</th>\n",
       "      <th>income</th>\n",
       "    </tr>\n",
       "  </thead>\n",
       "  <tbody>\n",
       "    <tr>\n",
       "      <th>0</th>\n",
       "      <td>United States</td>\n",
       "      <td>2019</td>\n",
       "      <td>68703.0</td>\n",
       "    </tr>\n",
       "    <tr>\n",
       "      <th>1</th>\n",
       "      <td>Alabama</td>\n",
       "      <td>2019</td>\n",
       "      <td>56200.0</td>\n",
       "    </tr>\n",
       "    <tr>\n",
       "      <th>2</th>\n",
       "      <td>Alaska</td>\n",
       "      <td>2019</td>\n",
       "      <td>78394.0</td>\n",
       "    </tr>\n",
       "    <tr>\n",
       "      <th>3</th>\n",
       "      <td>Arizona</td>\n",
       "      <td>2019</td>\n",
       "      <td>70674.0</td>\n",
       "    </tr>\n",
       "    <tr>\n",
       "      <th>4</th>\n",
       "      <td>Arkansas</td>\n",
       "      <td>2019</td>\n",
       "      <td>54539.0</td>\n",
       "    </tr>\n",
       "  </tbody>\n",
       "</table>\n",
       "</div>"
      ],
      "text/plain": [
       "           state  date   income\n",
       "0  United States  2019  68703.0\n",
       "1        Alabama  2019  56200.0\n",
       "2         Alaska  2019  78394.0\n",
       "3        Arizona  2019  70674.0\n",
       "4       Arkansas  2019  54539.0"
      ]
     },
     "execution_count": 10,
     "metadata": {},
     "output_type": "execute_result"
    }
   ],
   "source": [
    "print(final_income_df.shape)\n",
    "final_income_df.head()"
   ]
  },
  {
   "cell_type": "code",
   "execution_count": 11,
   "id": "67882bcb",
   "metadata": {},
   "outputs": [],
   "source": [
    "# Create primary key column derived from unique region_id and date\n",
    "final_income_df['region_date'] = final_income_df.apply(lambda row: row.state.lower().replace(\" \",\"\") + row.date.replace(\"-\",\"\"), axis=1)"
   ]
  },
  {
   "cell_type": "code",
   "execution_count": 12,
   "id": "b1fa2b0f",
   "metadata": {},
   "outputs": [
    {
     "data": {
      "text/plain": [
       "Index(['state', 'date', 'income', 'region_date'], dtype='object')"
      ]
     },
     "execution_count": 12,
     "metadata": {},
     "output_type": "execute_result"
    }
   ],
   "source": [
    "final_income_df.columns"
   ]
  },
  {
   "cell_type": "code",
   "execution_count": 13,
   "id": "2e60864a",
   "metadata": {},
   "outputs": [],
   "source": [
    "reordered_columns = ['region_date', 'state', 'date', 'income']"
   ]
  },
  {
   "cell_type": "code",
   "execution_count": 14,
   "id": "f0393f45",
   "metadata": {},
   "outputs": [
    {
     "data": {
      "text/html": [
       "<div>\n",
       "<style scoped>\n",
       "    .dataframe tbody tr th:only-of-type {\n",
       "        vertical-align: middle;\n",
       "    }\n",
       "\n",
       "    .dataframe tbody tr th {\n",
       "        vertical-align: top;\n",
       "    }\n",
       "\n",
       "    .dataframe thead th {\n",
       "        text-align: right;\n",
       "    }\n",
       "</style>\n",
       "<table border=\"1\" class=\"dataframe\">\n",
       "  <thead>\n",
       "    <tr style=\"text-align: right;\">\n",
       "      <th></th>\n",
       "      <th>region_date</th>\n",
       "      <th>state</th>\n",
       "      <th>date</th>\n",
       "      <th>income</th>\n",
       "    </tr>\n",
       "  </thead>\n",
       "  <tbody>\n",
       "    <tr>\n",
       "      <th>0</th>\n",
       "      <td>unitedstates2019</td>\n",
       "      <td>United States</td>\n",
       "      <td>2019</td>\n",
       "      <td>68703.0</td>\n",
       "    </tr>\n",
       "    <tr>\n",
       "      <th>1</th>\n",
       "      <td>alabama2019</td>\n",
       "      <td>Alabama</td>\n",
       "      <td>2019</td>\n",
       "      <td>56200.0</td>\n",
       "    </tr>\n",
       "    <tr>\n",
       "      <th>2</th>\n",
       "      <td>alaska2019</td>\n",
       "      <td>Alaska</td>\n",
       "      <td>2019</td>\n",
       "      <td>78394.0</td>\n",
       "    </tr>\n",
       "    <tr>\n",
       "      <th>3</th>\n",
       "      <td>arizona2019</td>\n",
       "      <td>Arizona</td>\n",
       "      <td>2019</td>\n",
       "      <td>70674.0</td>\n",
       "    </tr>\n",
       "    <tr>\n",
       "      <th>4</th>\n",
       "      <td>arkansas2019</td>\n",
       "      <td>Arkansas</td>\n",
       "      <td>2019</td>\n",
       "      <td>54539.0</td>\n",
       "    </tr>\n",
       "  </tbody>\n",
       "</table>\n",
       "</div>"
      ],
      "text/plain": [
       "        region_date          state  date   income\n",
       "0  unitedstates2019  United States  2019  68703.0\n",
       "1       alabama2019        Alabama  2019  56200.0\n",
       "2        alaska2019         Alaska  2019  78394.0\n",
       "3       arizona2019        Arizona  2019  70674.0\n",
       "4      arkansas2019       Arkansas  2019  54539.0"
      ]
     },
     "execution_count": 14,
     "metadata": {},
     "output_type": "execute_result"
    }
   ],
   "source": [
    "final_income_df = final_income_df[reordered_columns]\n",
    "final_income_df.head()"
   ]
  },
  {
   "cell_type": "code",
   "execution_count": 15,
   "id": "664e2609",
   "metadata": {},
   "outputs": [],
   "source": [
    "final_income_df.to_csv(\"resources/final_income_data.csv\", index=False)"
   ]
  },
  {
   "cell_type": "code",
   "execution_count": null,
   "id": "941d08d9",
   "metadata": {},
   "outputs": [],
   "source": []
  }
 ],
 "metadata": {
  "kernelspec": {
   "display_name": "mlenv",
   "language": "python",
   "name": "mlenv"
  },
  "language_info": {
   "codemirror_mode": {
    "name": "ipython",
    "version": 3
   },
   "file_extension": ".py",
   "mimetype": "text/x-python",
   "name": "python",
   "nbconvert_exporter": "python",
   "pygments_lexer": "ipython3",
   "version": "3.7.10"
  }
 },
 "nbformat": 4,
 "nbformat_minor": 5
}
