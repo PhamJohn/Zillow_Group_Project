{
 "cells": [
  {
   "cell_type": "code",
   "execution_count": 35,
   "metadata": {
    "colab": {
     "base_uri": "https://localhost:8080/"
    },
    "id": "VnGgt9_MNnyG",
    "outputId": "d48e9c51-ca30-4747-d093-caa94be4c16e"
   },
   "outputs": [
    {
     "name": "stdout",
     "output_type": "stream",
     "text": [
      "\r",
      "0% [Working]\r",
      "            \r",
      "Hit:1 https://cloud.r-project.org/bin/linux/ubuntu bionic-cran40/ InRelease\n",
      "\r",
      "0% [Connecting to archive.ubuntu.com] [Connecting to security.ubuntu.com] [Conn\r",
      "0% [1 InRelease gpgv 3,626 B] [Connecting to archive.ubuntu.com] [Connecting to\r",
      "                                                                               \r",
      "Get:2 http://security.ubuntu.com/ubuntu bionic-security InRelease [88.7 kB]\n",
      "\r",
      "0% [1 InRelease gpgv 3,626 B] [Connecting to archive.ubuntu.com (91.189.88.142)\r",
      "                                                                               \r",
      "Ign:3 https://developer.download.nvidia.com/compute/cuda/repos/ubuntu1804/x86_64  InRelease\n",
      "Hit:4 http://ppa.launchpad.net/c2d4u.team/c2d4u4.0+/ubuntu bionic InRelease\n",
      "Ign:5 https://developer.download.nvidia.com/compute/machine-learning/repos/ubuntu1804/x86_64  InRelease\n",
      "Hit:6 https://developer.download.nvidia.com/compute/cuda/repos/ubuntu1804/x86_64  Release\n",
      "Hit:7 https://developer.download.nvidia.com/compute/machine-learning/repos/ubuntu1804/x86_64  Release\n",
      "Hit:8 http://archive.ubuntu.com/ubuntu bionic InRelease\n",
      "Get:9 http://archive.ubuntu.com/ubuntu bionic-updates InRelease [88.7 kB]\n",
      "Hit:10 http://ppa.launchpad.net/cran/libgit2/ubuntu bionic InRelease\n",
      "Hit:11 http://ppa.launchpad.net/deadsnakes/ppa/ubuntu bionic InRelease\n",
      "Get:12 http://archive.ubuntu.com/ubuntu bionic-backports InRelease [74.6 kB]\n",
      "Hit:13 http://ppa.launchpad.net/graphics-drivers/ppa/ubuntu bionic InRelease\n",
      "Fetched 252 kB in 2s (103 kB/s)\n",
      "Reading package lists... Done\n"
     ]
    }
   ],
   "source": [
    "import os\n",
    "# Find the latest version of spark 3.0  from http://www.apache.org/dist/spark/ and enter as the spark version\n",
    "# For example:\n",
    "# spark_version = 'spark-3.0.3'\n",
    "spark_version = 'spark-3.0.3'\n",
    "os.environ['SPARK_VERSION']=spark_version\n",
    "\n",
    "# Install Spark and Java\n",
    "!apt-get update\n",
    "!apt-get install openjdk-11-jdk-headless -qq > /dev/null\n",
    "!wget -q http://www.apache.org/dist/spark/$SPARK_VERSION/$SPARK_VERSION-bin-hadoop2.7.tgz\n",
    "!tar xf $SPARK_VERSION-bin-hadoop2.7.tgz\n",
    "!pip install -q findspark\n",
    "\n",
    "# Set Environment Variables\n",
    "import os\n",
    "os.environ[\"JAVA_HOME\"] = \"/usr/lib/jvm/java-11-openjdk-amd64\"\n",
    "os.environ[\"SPARK_HOME\"] = f\"/content/{spark_version}-bin-hadoop2.7\"\n",
    "\n",
    "# Start a SparkSession\n",
    "import findspark\n",
    "findspark.init()"
   ]
  },
  {
   "cell_type": "code",
   "execution_count": 36,
   "metadata": {
    "colab": {
     "base_uri": "https://localhost:8080/"
    },
    "id": "Rg2N-f93Nr5S",
    "outputId": "7b6e9de6-751a-478b-da8b-4fa72a109ebf"
   },
   "outputs": [
    {
     "name": "stdout",
     "output_type": "stream",
     "text": [
      "--2021-08-02 01:18:19--  https://jdbc.postgresql.org/download/postgresql-42.2.16.jar\n",
      "Resolving jdbc.postgresql.org (jdbc.postgresql.org)... 72.32.157.228, 2001:4800:3e1:1::228\n",
      "Connecting to jdbc.postgresql.org (jdbc.postgresql.org)|72.32.157.228|:443... connected.\n",
      "HTTP request sent, awaiting response... 200 OK\n",
      "Length: 1002883 (979K) [application/java-archive]\n",
      "Saving to: ‘postgresql-42.2.16.jar.3’\n",
      "\n",
      "postgresql-42.2.16. 100%[===================>] 979.38K  5.60MB/s    in 0.2s    \n",
      "\n",
      "2021-08-02 01:18:20 (5.60 MB/s) - ‘postgresql-42.2.16.jar.3’ saved [1002883/1002883]\n",
      "\n"
     ]
    }
   ],
   "source": [
    "!wget https://jdbc.postgresql.org/download/postgresql-42.2.16.jar"
   ]
  },
  {
   "cell_type": "code",
   "execution_count": 37,
   "metadata": {
    "id": "eIRvwMnzNzx3"
   },
   "outputs": [],
   "source": [
    "from pyspark.sql import SparkSession\n",
    "spark = SparkSession.builder.appName(\"CloudETL\").config(\"spark.driver.extraClassPath\",\"/content/postgresql-42.2.16.jar\").getOrCreate()"
   ]
  },
  {
   "cell_type": "code",
   "execution_count": 38,
   "metadata": {
    "id": "KSemIJN8N2Gg"
   },
   "outputs": [],
   "source": [
    "# Read in data from S3 Buckets\n",
    "from pyspark import SparkFiles\n",
    "url_list =\"https://ucb-data-group-project-zillow-s3.s3.us-west-1.amazonaws.com/final_list_price_data.csv\"\n",
    "spark.sparkContext.addFile(url_list)\n",
    "list_data_df = spark.read.csv(SparkFiles.get(\"final_list_price_data.csv\"), sep=\",\", header=True, inferSchema=True)"
   ]
  },
  {
   "cell_type": "code",
   "execution_count": 39,
   "metadata": {
    "colab": {
     "base_uri": "https://localhost:8080/"
    },
    "id": "9rWhIIxBQq3b",
    "outputId": "429b0bf1-20e6-4486-9a38-d9484047ef7d"
   },
   "outputs": [
    {
     "name": "stdout",
     "output_type": "stream",
     "text": [
      "+--------------+---------+---------+--------------------+-----------+----------+----------+--------+\n",
      "|   region_date|region_id|size_rank|         region_name|region_type|state_name|      date|   price|\n",
      "+--------------+---------+---------+--------------------+-----------+----------+----------+--------+\n",
      "|10200120171104|   102001|        0|       United States|    Country|      null|2017-11-04|275448.0|\n",
      "|39491320171104|   394913|        1|        New York, NY|        Msa|        NY|2017-11-04|526850.0|\n",
      "|75389920171104|   753899|        2|Los Angeles-Long ...|        Msa|        CA|2017-11-04|812252.0|\n",
      "|39446320171104|   394463|        3|         Chicago, IL|        Msa|        IL|2017-11-04|319556.0|\n",
      "|39451420171104|   394514|        4|Dallas-Fort Worth...|        Msa|        TX|2017-11-04|347537.0|\n",
      "|39497420171104|   394974|        5|    Philadelphia, PA|        Msa|        PA|2017-11-04|263365.0|\n",
      "|39469220171104|   394692|        6|         Houston, TX|        Msa|        TX|2017-11-04|310610.0|\n",
      "|39520920171104|   395209|        7|      Washington, DC|        Msa|        DC|2017-11-04|454559.0|\n",
      "|39485620171104|   394856|        8|Miami-Fort Lauder...|        Msa|        FL|2017-11-04|395050.0|\n",
      "|39434720171104|   394347|        9|         Atlanta, GA|        Msa|        GA|2017-11-04|297938.0|\n",
      "|39440420171104|   394404|       10|          Boston, MA|        Msa|        MA|2017-11-04|581345.0|\n",
      "|39505720171104|   395057|       11|   San Francisco, CA|        Msa|        CA|2017-11-04|867930.0|\n",
      "|39453220171104|   394532|       12|         Detroit, MI|        Msa|        MI|2017-11-04|239655.0|\n",
      "|39502520171104|   395025|       13|       Riverside, CA|        Msa|        CA|2017-11-04|388757.0|\n",
      "|39497620171104|   394976|       14|         Phoenix, AZ|        Msa|        AZ|2017-11-04|333805.0|\n",
      "|39507820171104|   395078|       15|         Seattle, WA|        Msa|        WA|2017-11-04|506536.0|\n",
      "|39486520171104|   394865|       16|Minneapolis-St Pa...|        Msa|        MN|2017-11-04|336676.0|\n",
      "|39505620171104|   395056|       17|       San Diego, CA|        Msa|        CA|2017-11-04|728005.0|\n",
      "|39512120171104|   395121|       18|       St. Louis, MO|        Msa|        MO|2017-11-04|197375.0|\n",
      "|39514820171104|   395148|       19|           Tampa, FL|        Msa|        FL|2017-11-04|263897.0|\n",
      "+--------------+---------+---------+--------------------+-----------+----------+----------+--------+\n",
      "only showing top 20 rows\n",
      "\n"
     ]
    }
   ],
   "source": [
    "# Show DataFrame\n",
    "list_data_df.show()"
   ]
  },
  {
   "cell_type": "code",
   "execution_count": 40,
   "metadata": {
    "colab": {
     "base_uri": "https://localhost:8080/"
    },
    "id": "AsDhD94RRbwC",
    "outputId": "a9f21cf8-f646-4f72-8db0-68fc464b1b54"
   },
   "outputs": [
    {
     "name": "stdout",
     "output_type": "stream",
     "text": [
      "+--------------+---------+---------+--------------------+-----------+----------+----------+--------+\n",
      "|   region_date|region_id|size_rank|         region_name|region_type|state_name|      date|   price|\n",
      "+--------------+---------+---------+--------------------+-----------+----------+----------+--------+\n",
      "|10200120080223|   102001|        0|       United States|    Country|      null|2008-02-23|191138.0|\n",
      "|39491320080223|   394913|        1|        New York, NY|        Msa|        NY|2008-02-23|    null|\n",
      "|75389920080223|   753899|        2|Los Angeles-Long ...|        Msa|        CA|2008-02-23|516750.0|\n",
      "|39446320080223|   394463|        3|         Chicago, IL|        Msa|        IL|2008-02-23|247988.0|\n",
      "|39451420080223|   394514|        4|Dallas-Fort Worth...|        Msa|        TX|2008-02-23|143466.0|\n",
      "|39497420080223|   394974|        5|    Philadelphia, PA|        Msa|        PA|2008-02-23|217527.0|\n",
      "|39469220080223|   394692|        6|         Houston, TX|        Msa|        TX|2008-02-23|151315.0|\n",
      "|39520920080223|   395209|        7|      Washington, DC|        Msa|        DC|2008-02-23|372875.0|\n",
      "|39485620080223|   394856|        8|Miami-Fort Lauder...|        Msa|        FL|2008-02-23|266825.0|\n",
      "|39434720080223|   394347|        9|         Atlanta, GA|        Msa|        GA|2008-02-23|181100.0|\n",
      "|39440420080223|   394404|       10|          Boston, MA|        Msa|        MA|2008-02-23|310613.0|\n",
      "|39505720080223|   395057|       11|   San Francisco, CA|        Msa|        CA|2008-02-23|565000.0|\n",
      "|39453220080223|   394532|       12|         Detroit, MI|        Msa|        MI|2008-02-23|135125.0|\n",
      "|39502520080223|   395025|       13|       Riverside, CA|        Msa|        CA|2008-02-23|328750.0|\n",
      "|39497620080223|   394976|       14|         Phoenix, AZ|        Msa|        AZ|2008-02-23|227074.0|\n",
      "|39507820080223|   395078|       15|         Seattle, WA|        Msa|        WA|2008-02-23|351526.0|\n",
      "|39486520080223|   394865|       16|Minneapolis-St Pa...|        Msa|        MN|2008-02-23|220625.0|\n",
      "|39505620080223|   395056|       17|       San Diego, CA|        Msa|        CA|2008-02-23|473750.0|\n",
      "|39512120080223|   395121|       18|       St. Louis, MO|        Msa|        MO|2008-02-23|145225.0|\n",
      "|39514820080223|   395148|       19|           Tampa, FL|        Msa|        FL|2008-02-23|175975.0|\n",
      "+--------------+---------+---------+--------------------+-----------+----------+----------+--------+\n",
      "only showing top 20 rows\n",
      "\n"
     ]
    }
   ],
   "source": [
    "url_sale =\"https://ucb-data-group-project-zillow-s3.s3.us-west-1.amazonaws.com/final_sale_price_data.csv\"\n",
    "spark.sparkContext.addFile(url_sale)\n",
    "sale_data_df = spark.read.csv(SparkFiles.get(\"final_sale_price_data.csv\"), sep=\",\", header=True, inferSchema=True)\n",
    "\n",
    "# Show DataFrame\n",
    "sale_data_df.show()"
   ]
  },
  {
   "cell_type": "code",
   "execution_count": 41,
   "metadata": {
    "colab": {
     "base_uri": "https://localhost:8080/"
    },
    "id": "DC3xx12RRsid",
    "outputId": "4cb2ff13-7c3a-4cb9-cae9-4ada4ac24e42"
   },
   "outputs": [
    {
     "name": "stdout",
     "output_type": "stream",
     "text": [
      "Enter database password··········\n"
     ]
    }
   ],
   "source": [
    "# Store environmental variable\n",
    "from getpass import getpass\n",
    "password = getpass('Enter database password')\n",
    "# Configure settings for RDS\n",
    "mode = \"append\"\n",
    "jdbc_url=\"jdbc:postgresql://ucb-data-group-project-zillow.csaw135fqqkl.us-west-1.rds.amazonaws.com:5432/postgres\"\n",
    "config = {\"user\":\"postgres\",\n",
    "          \"password\": password,\n",
    "          \"driver\":\"org.postgresql.Driver\"}"
   ]
  },
  {
   "cell_type": "code",
   "execution_count": 44,
   "metadata": {
    "id": "-13xwDfpXJY2"
   },
   "outputs": [],
   "source": [
    "# Write DataFrame to active_user table in RDS\n",
    "list_data_df.write.jdbc(url=jdbc_url, table='list', mode=mode, properties=config)"
   ]
  },
  {
   "cell_type": "code",
   "execution_count": 45,
   "metadata": {
    "id": "fwtxJu94XlHa"
   },
   "outputs": [],
   "source": [
    "# Write DataFrame to active_user table in RDS\n",
    "sale_data_df.write.jdbc(url=jdbc_url, table='sale', mode=mode, properties=config)"
   ]
  },
  {
   "cell_type": "code",
   "execution_count": null,
   "metadata": {
    "id": "pQxhS1GFdTtE"
   },
   "outputs": [],
   "source": []
  }
 ],
 "metadata": {
  "colab": {
   "name": "zillow_data_etl.ipynb",
   "provenance": []
  },
  "kernelspec": {
   "display_name": "Python 3",
   "language": "python",
   "name": "python3"
  },
  "language_info": {
   "codemirror_mode": {
    "name": "ipython",
    "version": 3
   },
   "file_extension": ".py",
   "mimetype": "text/x-python",
   "name": "python",
   "nbconvert_exporter": "python",
   "pygments_lexer": "ipython3",
   "version": "3.8.5"
  }
 },
 "nbformat": 4,
 "nbformat_minor": 1
}
