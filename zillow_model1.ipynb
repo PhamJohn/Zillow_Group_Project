{
 "cells": [
  {
   "cell_type": "markdown",
   "metadata": {},
   "source": [
    "## Zillow Sales versus List prices weekly for major US cities"
   ]
  },
  {
   "cell_type": "code",
   "execution_count": 1,
   "metadata": {},
   "outputs": [
    {
     "name": "stderr",
     "output_type": "stream",
     "text": [
      "/opt/anaconda3/envs/mlenv/lib/python3.7/site-packages/psycopg2/__init__.py:144: UserWarning: The psycopg2 wheel package will be renamed from release 2.8; in order to keep installing from binary please use \"pip install psycopg2-binary\" instead. For details see: <http://initd.org/psycopg/docs/install.html#binary-install-from-pypi>.\n",
      "  \"\"\")\n"
     ]
    }
   ],
   "source": [
    "# Loading in the basics\n",
    "import psycopg2\n",
    "from sklearn.model_selection import train_test_split\n",
    "from sklearn.preprocessing import StandardScaler,OneHotEncoder\n",
    "import pandas as pd\n",
    "import tensorflow as tf"
   ]
  },
  {
   "cell_type": "code",
   "execution_count": 2,
   "metadata": {},
   "outputs": [],
   "source": [
    "# Connect to postgres db\n",
    "ENDPOINT=\"ucb-data-group-project-zillow.csaw135fqqkl.us-west-1.rds.amazonaws.com\"\n",
    "PORT=\"5432\"\n",
    "USR=\"postgres\"\n",
    "REGION=\"us-west-1\"\n",
    "DBNAME=\"postgres\"\n",
    "\n",
    "conn = psycopg2.connect(database = DBNAME,\n",
    "                        user =     USR,\n",
    "                        password = '*******',\n",
    "                        host =     ENDPOINT,\n",
    "                        port =     PORT)"
   ]
  },
  {
   "cell_type": "code",
   "execution_count": 3,
   "metadata": {},
   "outputs": [],
   "source": [
    "# list table sql\n",
    "list_sql = '''\n",
    "            SELECT *\n",
    "            FROM list;\n",
    "            '''"
   ]
  },
  {
   "cell_type": "code",
   "execution_count": 4,
   "metadata": {},
   "outputs": [],
   "source": [
    "# sale table sql\n",
    "sale_sql = '''\n",
    "            SELECT *\n",
    "            FROM sale;\n",
    "            '''"
   ]
  },
  {
   "cell_type": "code",
   "execution_count": 5,
   "metadata": {},
   "outputs": [],
   "source": [
    "# setting up dfs\n",
    "list_df = pd.read_sql(list_sql, conn)\n",
    "sale_df = pd.read_sql(sale_sql, conn)"
   ]
  },
  {
   "cell_type": "code",
   "execution_count": 6,
   "metadata": {},
   "outputs": [
    {
     "data": {
      "text/html": [
       "<div>\n",
       "<style scoped>\n",
       "    .dataframe tbody tr th:only-of-type {\n",
       "        vertical-align: middle;\n",
       "    }\n",
       "\n",
       "    .dataframe tbody tr th {\n",
       "        vertical-align: top;\n",
       "    }\n",
       "\n",
       "    .dataframe thead th {\n",
       "        text-align: right;\n",
       "    }\n",
       "</style>\n",
       "<table border=\"1\" class=\"dataframe\">\n",
       "  <thead>\n",
       "    <tr style=\"text-align: right;\">\n",
       "      <th></th>\n",
       "      <th>region_date</th>\n",
       "      <th>region_id</th>\n",
       "      <th>size_rank</th>\n",
       "      <th>region_name</th>\n",
       "      <th>region_type</th>\n",
       "      <th>state_name</th>\n",
       "      <th>date</th>\n",
       "      <th>price</th>\n",
       "    </tr>\n",
       "  </thead>\n",
       "  <tbody>\n",
       "    <tr>\n",
       "      <th>0</th>\n",
       "      <td>10200120171104</td>\n",
       "      <td>102001</td>\n",
       "      <td>0</td>\n",
       "      <td>United States</td>\n",
       "      <td>Country</td>\n",
       "      <td>None</td>\n",
       "      <td>2017-11-04</td>\n",
       "      <td>275448.0</td>\n",
       "    </tr>\n",
       "    <tr>\n",
       "      <th>1</th>\n",
       "      <td>39491320171104</td>\n",
       "      <td>394913</td>\n",
       "      <td>1</td>\n",
       "      <td>New York, NY</td>\n",
       "      <td>Msa</td>\n",
       "      <td>NY</td>\n",
       "      <td>2017-11-04</td>\n",
       "      <td>526850.0</td>\n",
       "    </tr>\n",
       "    <tr>\n",
       "      <th>2</th>\n",
       "      <td>75389920171104</td>\n",
       "      <td>753899</td>\n",
       "      <td>2</td>\n",
       "      <td>Los Angeles-Long Beach-Anaheim, CA</td>\n",
       "      <td>Msa</td>\n",
       "      <td>CA</td>\n",
       "      <td>2017-11-04</td>\n",
       "      <td>812252.0</td>\n",
       "    </tr>\n",
       "    <tr>\n",
       "      <th>3</th>\n",
       "      <td>39446320171104</td>\n",
       "      <td>394463</td>\n",
       "      <td>3</td>\n",
       "      <td>Chicago, IL</td>\n",
       "      <td>Msa</td>\n",
       "      <td>IL</td>\n",
       "      <td>2017-11-04</td>\n",
       "      <td>319556.0</td>\n",
       "    </tr>\n",
       "    <tr>\n",
       "      <th>4</th>\n",
       "      <td>39451420171104</td>\n",
       "      <td>394514</td>\n",
       "      <td>4</td>\n",
       "      <td>Dallas-Fort Worth, TX</td>\n",
       "      <td>Msa</td>\n",
       "      <td>TX</td>\n",
       "      <td>2017-11-04</td>\n",
       "      <td>347537.0</td>\n",
       "    </tr>\n",
       "  </tbody>\n",
       "</table>\n",
       "</div>"
      ],
      "text/plain": [
       "      region_date region_id  size_rank                         region_name  \\\n",
       "0  10200120171104    102001          0                       United States   \n",
       "1  39491320171104    394913          1                        New York, NY   \n",
       "2  75389920171104    753899          2  Los Angeles-Long Beach-Anaheim, CA   \n",
       "3  39446320171104    394463          3                         Chicago, IL   \n",
       "4  39451420171104    394514          4               Dallas-Fort Worth, TX   \n",
       "\n",
       "  region_type state_name        date     price  \n",
       "0     Country       None  2017-11-04  275448.0  \n",
       "1         Msa         NY  2017-11-04  526850.0  \n",
       "2         Msa         CA  2017-11-04  812252.0  \n",
       "3         Msa         IL  2017-11-04  319556.0  \n",
       "4         Msa         TX  2017-11-04  347537.0  "
      ]
     },
     "execution_count": 6,
     "metadata": {},
     "output_type": "execute_result"
    }
   ],
   "source": [
    "# inspect list df\n",
    "list_df.head()"
   ]
  },
  {
   "cell_type": "code",
   "execution_count": 7,
   "metadata": {},
   "outputs": [
    {
     "data": {
      "text/html": [
       "<div>\n",
       "<style scoped>\n",
       "    .dataframe tbody tr th:only-of-type {\n",
       "        vertical-align: middle;\n",
       "    }\n",
       "\n",
       "    .dataframe tbody tr th {\n",
       "        vertical-align: top;\n",
       "    }\n",
       "\n",
       "    .dataframe thead th {\n",
       "        text-align: right;\n",
       "    }\n",
       "</style>\n",
       "<table border=\"1\" class=\"dataframe\">\n",
       "  <thead>\n",
       "    <tr style=\"text-align: right;\">\n",
       "      <th></th>\n",
       "      <th>region_date</th>\n",
       "      <th>region_id</th>\n",
       "      <th>size_rank</th>\n",
       "      <th>region_name</th>\n",
       "      <th>region_type</th>\n",
       "      <th>state_name</th>\n",
       "      <th>date</th>\n",
       "      <th>price</th>\n",
       "    </tr>\n",
       "  </thead>\n",
       "  <tbody>\n",
       "    <tr>\n",
       "      <th>0</th>\n",
       "      <td>10200120080223</td>\n",
       "      <td>102001</td>\n",
       "      <td>0</td>\n",
       "      <td>United States</td>\n",
       "      <td>Country</td>\n",
       "      <td>None</td>\n",
       "      <td>2008-02-23</td>\n",
       "      <td>191138.0</td>\n",
       "    </tr>\n",
       "    <tr>\n",
       "      <th>1</th>\n",
       "      <td>39491320080223</td>\n",
       "      <td>394913</td>\n",
       "      <td>1</td>\n",
       "      <td>New York, NY</td>\n",
       "      <td>Msa</td>\n",
       "      <td>NY</td>\n",
       "      <td>2008-02-23</td>\n",
       "      <td>NaN</td>\n",
       "    </tr>\n",
       "    <tr>\n",
       "      <th>2</th>\n",
       "      <td>75389920080223</td>\n",
       "      <td>753899</td>\n",
       "      <td>2</td>\n",
       "      <td>Los Angeles-Long Beach-Anaheim, CA</td>\n",
       "      <td>Msa</td>\n",
       "      <td>CA</td>\n",
       "      <td>2008-02-23</td>\n",
       "      <td>516750.0</td>\n",
       "    </tr>\n",
       "    <tr>\n",
       "      <th>3</th>\n",
       "      <td>39446320080223</td>\n",
       "      <td>394463</td>\n",
       "      <td>3</td>\n",
       "      <td>Chicago, IL</td>\n",
       "      <td>Msa</td>\n",
       "      <td>IL</td>\n",
       "      <td>2008-02-23</td>\n",
       "      <td>247988.0</td>\n",
       "    </tr>\n",
       "    <tr>\n",
       "      <th>4</th>\n",
       "      <td>39451420080223</td>\n",
       "      <td>394514</td>\n",
       "      <td>4</td>\n",
       "      <td>Dallas-Fort Worth, TX</td>\n",
       "      <td>Msa</td>\n",
       "      <td>TX</td>\n",
       "      <td>2008-02-23</td>\n",
       "      <td>143466.0</td>\n",
       "    </tr>\n",
       "  </tbody>\n",
       "</table>\n",
       "</div>"
      ],
      "text/plain": [
       "      region_date region_id  size_rank                         region_name  \\\n",
       "0  10200120080223    102001          0                       United States   \n",
       "1  39491320080223    394913          1                        New York, NY   \n",
       "2  75389920080223    753899          2  Los Angeles-Long Beach-Anaheim, CA   \n",
       "3  39446320080223    394463          3                         Chicago, IL   \n",
       "4  39451420080223    394514          4               Dallas-Fort Worth, TX   \n",
       "\n",
       "  region_type state_name        date     price  \n",
       "0     Country       None  2008-02-23  191138.0  \n",
       "1         Msa         NY  2008-02-23       NaN  \n",
       "2         Msa         CA  2008-02-23  516750.0  \n",
       "3         Msa         IL  2008-02-23  247988.0  \n",
       "4         Msa         TX  2008-02-23  143466.0  "
      ]
     },
     "execution_count": 7,
     "metadata": {},
     "output_type": "execute_result"
    }
   ],
   "source": [
    "# inspect sale df\n",
    "sale_df.head()"
   ]
  },
  {
   "cell_type": "code",
<<<<<<< Updated upstream
   "execution_count": 8,
   "metadata": {},
=======
   "execution_count": 4,
   "source": [
    "# general cleaning\r\n",
    "sale_df = sale_df.drop([\"RegionID\",\"RegionType\"],1)\r\n",
    "list_df = list_df.drop([\"RegionID\", \"RegionType\"],1)\r\n",
    "list_df.head()\r\n"
   ],
>>>>>>> Stashed changes
   "outputs": [
    {
     "data": {
      "text/html": [
       "<div>\n",
       "<style scoped>\n",
       "    .dataframe tbody tr th:only-of-type {\n",
       "        vertical-align: middle;\n",
       "    }\n",
       "\n",
       "    .dataframe tbody tr th {\n",
       "        vertical-align: top;\n",
       "    }\n",
       "\n",
       "    .dataframe thead th {\n",
       "        text-align: right;\n",
       "    }\n",
       "</style>\n",
       "<table border=\"1\" class=\"dataframe\">\n",
       "  <thead>\n",
       "    <tr style=\"text-align: right;\">\n",
       "      <th></th>\n",
       "      <th>size_rank</th>\n",
       "      <th>region_name</th>\n",
       "      <th>state_name</th>\n",
       "      <th>date</th>\n",
       "      <th>price</th>\n",
       "    </tr>\n",
       "  </thead>\n",
       "  <tbody>\n",
       "    <tr>\n",
       "      <th>0</th>\n",
       "      <td>0</td>\n",
       "      <td>United States</td>\n",
       "      <td>None</td>\n",
       "      <td>2017-11-04</td>\n",
       "      <td>275448.0</td>\n",
       "    </tr>\n",
       "    <tr>\n",
       "      <th>1</th>\n",
       "      <td>1</td>\n",
       "      <td>New York, NY</td>\n",
       "      <td>NY</td>\n",
       "      <td>2017-11-04</td>\n",
       "      <td>526850.0</td>\n",
       "    </tr>\n",
       "    <tr>\n",
       "      <th>2</th>\n",
       "      <td>2</td>\n",
       "      <td>Los Angeles-Long Beach-Anaheim, CA</td>\n",
       "      <td>CA</td>\n",
       "      <td>2017-11-04</td>\n",
       "      <td>812252.0</td>\n",
       "    </tr>\n",
       "    <tr>\n",
       "      <th>3</th>\n",
       "      <td>3</td>\n",
       "      <td>Chicago, IL</td>\n",
       "      <td>IL</td>\n",
       "      <td>2017-11-04</td>\n",
       "      <td>319556.0</td>\n",
       "    </tr>\n",
       "    <tr>\n",
       "      <th>4</th>\n",
       "      <td>4</td>\n",
       "      <td>Dallas-Fort Worth, TX</td>\n",
       "      <td>TX</td>\n",
       "      <td>2017-11-04</td>\n",
       "      <td>347537.0</td>\n",
       "    </tr>\n",
       "  </tbody>\n",
       "</table>\n",
       "</div>"
      ],
      "text/plain": [
       "   size_rank                         region_name state_name        date  \\\n",
       "0          0                       United States       None  2017-11-04   \n",
       "1          1                        New York, NY         NY  2017-11-04   \n",
       "2          2  Los Angeles-Long Beach-Anaheim, CA         CA  2017-11-04   \n",
       "3          3                         Chicago, IL         IL  2017-11-04   \n",
       "4          4               Dallas-Fort Worth, TX         TX  2017-11-04   \n",
       "\n",
       "      price  \n",
       "0  275448.0  \n",
       "1  526850.0  \n",
       "2  812252.0  \n",
       "3  319556.0  \n",
       "4  347537.0  "
      ]
     },
     "execution_count": 8,
     "metadata": {},
<<<<<<< Updated upstream
     "output_type": "execute_result"
=======
     "execution_count": 4
>>>>>>> Stashed changes
    }
   ],
   "source": [
    "# general cleaning\n",
    "sale_df = sale_df.drop([\"region_date\",\"region_id\",\"region_type\"],1)\n",
    "list_df = list_df.drop([\"region_date\",\"region_id\", \"region_type\"],1)\n",
    "list_df.head()"
   ]
  },
  {
   "cell_type": "code",
<<<<<<< Updated upstream
   "execution_count": 9,
   "metadata": {},
=======
   "execution_count": 5,
   "source": [
    "# us data pullout for list and sales data\r\n",
    "\r\n",
    "us_list = list_df.loc[list_df[\"RegionName\"] == \"United States\"]\r\n",
    "us_list = us_list.drop([\"SizeRank\", \"StateName\"], 1)\r\n",
    "us_sale = sale_df.loc[sale_df[\"RegionName\"] == \"United States\"]\r\n",
    "us_sale = us_sale.drop([\"SizeRank\", \"StateName\"],1)\r\n",
    "\r\n",
    "us_sale.head()"
   ],
>>>>>>> Stashed changes
   "outputs": [
    {
     "data": {
      "text/html": [
       "<div>\n",
       "<style scoped>\n",
       "    .dataframe tbody tr th:only-of-type {\n",
       "        vertical-align: middle;\n",
       "    }\n",
       "\n",
       "    .dataframe tbody tr th {\n",
       "        vertical-align: top;\n",
       "    }\n",
       "\n",
       "    .dataframe thead th {\n",
       "        text-align: right;\n",
       "    }\n",
       "</style>\n",
       "<table border=\"1\" class=\"dataframe\">\n",
       "  <thead>\n",
       "    <tr style=\"text-align: right;\">\n",
       "      <th></th>\n",
       "      <th>region_name</th>\n",
       "      <th>date</th>\n",
       "      <th>price</th>\n",
       "    </tr>\n",
       "  </thead>\n",
       "  <tbody>\n",
       "    <tr>\n",
       "      <th>0</th>\n",
       "      <td>United States</td>\n",
       "      <td>2008-02-23</td>\n",
       "      <td>191138.0</td>\n",
       "    </tr>\n",
       "    <tr>\n",
       "      <th>128</th>\n",
       "      <td>United States</td>\n",
       "      <td>2020-10-31</td>\n",
       "      <td>290550.0</td>\n",
       "    </tr>\n",
       "    <tr>\n",
       "      <th>199</th>\n",
       "      <td>United States</td>\n",
       "      <td>2008-03-01</td>\n",
       "      <td>192225.0</td>\n",
       "    </tr>\n",
       "    <tr>\n",
       "      <th>296</th>\n",
       "      <td>United States</td>\n",
       "      <td>2008-03-08</td>\n",
       "      <td>192225.0</td>\n",
       "    </tr>\n",
       "    <tr>\n",
       "      <th>393</th>\n",
       "      <td>United States</td>\n",
       "      <td>2008-03-15</td>\n",
       "      <td>192475.0</td>\n",
       "    </tr>\n",
       "  </tbody>\n",
       "</table>\n",
       "</div>"
      ],
      "text/plain": [
       "       region_name        date     price\n",
       "0    United States  2008-02-23  191138.0\n",
       "128  United States  2020-10-31  290550.0\n",
       "199  United States  2008-03-01  192225.0\n",
       "296  United States  2008-03-08  192225.0\n",
       "393  United States  2008-03-15  192475.0"
      ]
     },
     "execution_count": 9,
     "metadata": {},
<<<<<<< Updated upstream
     "output_type": "execute_result"
=======
     "execution_count": 5
>>>>>>> Stashed changes
    }
   ],
   "source": [
    "# us data pullout for list and sales data\n",
    "\n",
    "us_list = list_df.loc[list_df[\"region_name\"] == \"United States\"]\n",
    "us_list = us_list.drop([\"size_rank\", \"state_name\"], 1)\n",
    "us_sale = sale_df.loc[sale_df[\"region_name\"] == \"United States\"]\n",
    "us_sale = us_sale.drop([\"size_rank\", \"state_name\"],1)\n",
    "\n",
    "us_sale.head()"
   ]
  },
  {
   "cell_type": "code",
<<<<<<< Updated upstream
   "execution_count": 10,
   "metadata": {},
=======
   "execution_count": 6,
   "source": [
    "# prepping us dfs for merge and merging\r\n",
    "us_list = us_list.rename(columns = {\"price\":\"list price\"})\r\n",
    "us_sale = us_sale.rename(columns = {\"price\":\"sale price\"})\r\n",
    "\r\n",
    "us_df = us_list.merge(us_sale, on = [\"RegionName\",\"date\"], how = \"right\")\r\n",
    "us_df = us_df.dropna()\r\n",
    "\r\n",
    "us_df.head()\r\n"
   ],
>>>>>>> Stashed changes
   "outputs": [
    {
     "data": {
<<<<<<< Updated upstream
=======
      "text/plain": [
       "        RegionName        date  list price  sale price\n",
       "506  United States  2017-11-04    275448.0    235099.0\n",
       "507  United States  2017-11-11    275448.0    234750.0\n",
       "508  United States  2017-11-18    275448.0    235750.0\n",
       "509  United States  2017-11-25    274975.0    235916.0\n",
       "510  United States  2017-12-02    274825.0    237166.0"
      ],
>>>>>>> Stashed changes
      "text/html": [
       "<div>\n",
       "<style scoped>\n",
       "    .dataframe tbody tr th:only-of-type {\n",
       "        vertical-align: middle;\n",
       "    }\n",
       "\n",
       "    .dataframe tbody tr th {\n",
       "        vertical-align: top;\n",
       "    }\n",
       "\n",
       "    .dataframe thead th {\n",
       "        text-align: right;\n",
       "    }\n",
       "</style>\n",
       "<table border=\"1\" class=\"dataframe\">\n",
       "  <thead>\n",
       "    <tr style=\"text-align: right;\">\n",
       "      <th></th>\n",
       "      <th>region_name</th>\n",
       "      <th>date</th>\n",
       "      <th>list price</th>\n",
       "      <th>sale price</th>\n",
       "    </tr>\n",
       "  </thead>\n",
       "  <tbody>\n",
       "    <tr>\n",
       "      <th>1</th>\n",
       "      <td>United States</td>\n",
       "      <td>2020-10-31</td>\n",
       "      <td>343243.0</td>\n",
       "      <td>290550.0</td>\n",
       "    </tr>\n",
       "    <tr>\n",
       "      <th>5</th>\n",
       "      <td>United States</td>\n",
       "      <td>2020-11-07</td>\n",
       "      <td>341993.0</td>\n",
       "      <td>291800.0</td>\n",
       "    </tr>\n",
       "    <tr>\n",
       "      <th>8</th>\n",
       "      <td>United States</td>\n",
       "      <td>2020-11-14</td>\n",
       "      <td>340968.0</td>\n",
       "      <td>292000.0</td>\n",
       "    </tr>\n",
       "    <tr>\n",
       "      <th>9</th>\n",
       "      <td>United States</td>\n",
       "      <td>2020-11-21</td>\n",
       "      <td>339993.0</td>\n",
       "      <td>293250.0</td>\n",
       "    </tr>\n",
       "    <tr>\n",
       "      <th>10</th>\n",
       "      <td>United States</td>\n",
       "      <td>2020-11-28</td>\n",
       "      <td>339022.0</td>\n",
       "      <td>292000.0</td>\n",
       "    </tr>\n",
       "  </tbody>\n",
       "</table>\n",
       "</div>"
      ],
      "text/plain": [
       "      region_name       date  list price  sale price\n",
       "1   United States 2020-10-31    343243.0    290550.0\n",
       "5   United States 2020-11-07    341993.0    291800.0\n",
       "8   United States 2020-11-14    340968.0    292000.0\n",
       "9   United States 2020-11-21    339993.0    293250.0\n",
       "10  United States 2020-11-28    339022.0    292000.0"
      ]
     },
     "execution_count": 10,
     "metadata": {},
<<<<<<< Updated upstream
     "output_type": "execute_result"
=======
     "execution_count": 6
>>>>>>> Stashed changes
    }
   ],
   "source": [
    "# prepping us dfs for merge and merging\n",
    "us_list = us_list.rename(columns = {\"price\":\"list price\"})\n",
    "us_sale = us_sale.rename(columns = {\"price\":\"sale price\"})\n",
    "\n",
    "us_df = us_list.merge(us_sale, on = [\"region_name\",\"date\"], how = \"right\")\n",
    "us_df = us_df.dropna()\n",
    "\n",
    "us_df[\"date\"] = pd.to_datetime(us_df[\"date\"])\n",
    "\n",
    "us_df.head()"
   ]
  },
  {
   "cell_type": "code",
<<<<<<< Updated upstream
   "execution_count": 11,
   "metadata": {},
=======
   "execution_count": 7,
   "source": [
    "# examining the relation between list and sale\r\n",
    "us_df.plot(x= \"date\")"
   ],
>>>>>>> Stashed changes
   "outputs": [
    {
     "data": {
      "text/plain": [
       "<AxesSubplot:xlabel='date'>"
      ]
     },
     "execution_count": 11,
     "metadata": {},
<<<<<<< Updated upstream
     "output_type": "execute_result"
=======
     "execution_count": 7
>>>>>>> Stashed changes
    },
    {
     "data": {
      "image/png": "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\n",
      "text/plain": [
       "<Figure size 432x288 with 1 Axes>"
<<<<<<< Updated upstream
      ]
=======
      ],
      "image/png": "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"
>>>>>>> Stashed changes
     },
     "metadata": {
      "needs_background": "light"
     },
     "output_type": "display_data"
    }
   ],
   "source": [
    "# examining the relation between list and sale\n",
    "us_df.plot(x= \"date\")"
   ]
  },
  {
   "cell_type": "code",
   "execution_count": null,
   "metadata": {},
   "outputs": [],
   "source": [
<<<<<<< Updated upstream
    "# node count: ???\n",
    "# activation method: swish\n",
    "# gist per austin: 100~200, nodes: play with, hidden layers: 1~2 max 3"
   ]
=======
    "from sklearn.metrics import mean_squared_error\r\n",
    "from math import sqrt\r\n",
    "from matplotlib import pyplot\r\n",
    "\r\n",
    "# prepare data\r\n",
    "X = us_df.values\r\n",
    "train, test = X[0:-24], X[-24:]\r\n",
    "persistence_values = range(1, 25)\r\n",
    "scores = list()\r\n",
    "for p in persistence_values:\r\n",
    "\t# walk-forward validation\r\n",
    "\thistory = [x for x in train]\r\n",
    "\tpredictions = list()\r\n",
    "\tfor i in range(len(test)):\r\n",
    "\t\t# make prediction\r\n",
    "\t\tyhat = history[-p]\r\n",
    "\t\tpredictions.append(yhat)\r\n",
    "\t\t# observation\r\n",
    "\t\thistory.append(test[i])\r\n",
    "\t# report performance\r\n",
    "\trmse = sqrt(mean_squared_error(test, predictions))\r\n",
    "\tscores.append(rmse)\r\n",
    "\tprint('p=%d RMSE:%.3f' % (p, rmse))\r\n",
    "# plot scores over persistence values\r\n",
    "pyplot.plot(persistence_values, scores)\r\n",
    "pyplot.show()"
   ],
   "outputs": [],
   "metadata": {}
  },
  {
   "cell_type": "code",
   "execution_count": null,
   "source": [
    "# node count: ???\r\n",
    "# activation method: swish\r\n",
    "# gist per austin: 100~200, nodes: play with, hidden layers: 1~2 max 3\r\n"
   ],
   "outputs": [],
   "metadata": {}
>>>>>>> Stashed changes
  }
 ],
 "metadata": {
  "interpreter": {
   "hash": "673e9025f603f9e604ea6940cdd6a5362fe8df31b66759019337fbfba982bc05"
  },
  "kernelspec": {
   "display_name": "mlenv",
   "language": "python",
   "name": "mlenv"
  },
  "language_info": {
   "codemirror_mode": {
    "name": "ipython",
    "version": 3
   },
   "file_extension": ".py",
   "mimetype": "text/x-python",
   "name": "python",
   "nbconvert_exporter": "python",
   "pygments_lexer": "ipython3",
   "version": "3.7.10"
  }
 },
 "nbformat": 4,
 "nbformat_minor": 2
}
