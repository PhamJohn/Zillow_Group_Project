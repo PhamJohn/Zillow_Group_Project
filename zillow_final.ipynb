{
 "cells": [
  {
   "cell_type": "code",
   "execution_count": 18,
   "source": [
    "# Loading in the basics\r\n",
    "import psycopg2\r\n",
    "from sklearn.model_selection import train_test_split\r\n",
    "from sklearn.preprocessing import StandardScaler,OneHotEncoder\r\n",
    "import pandas as pd\r\n",
    "import tensorflow as tf\r\n",
    "import matplotlib.pyplot as plt\r\n",
    "from tensorflow import keras\r\n",
    "from config import password"
   ],
   "outputs": [],
   "metadata": {}
  },
  {
   "cell_type": "code",
   "execution_count": 19,
   "source": [
    "# Connect to postgres db\r\n",
    "ENDPOINT=\"ucb-data-group-project-zillow.csaw135fqqkl.us-west-1.rds.amazonaws.com\"\r\n",
    "PORT=\"5432\"\r\n",
    "USR=\"postgres\"\r\n",
    "REGION=\"us-west-1\"\r\n"
   ],
   "outputs": [],
   "metadata": {}
  },
  {
   "cell_type": "code",
   "execution_count": 20,
   "source": [
    "DBNAME=\"postgres\"\r\n",
    "\r\n",
    "conn = psycopg2.connect(database = DBNAME,\r\n",
    "                        user =     USR,\r\n",
    "                        password = password,\r\n",
    "                        host =     ENDPOINT,\r\n",
    "                        port =     PORT)"
   ],
   "outputs": [],
   "metadata": {}
  },
  {
   "cell_type": "code",
   "execution_count": 21,
   "source": [
    "# list table sql\r\n",
    "census_sql = '''\r\n",
    "            SELECT *\r\n",
    "            FROM census;\r\n",
    "            '''"
   ],
   "outputs": [],
   "metadata": {}
  },
  {
   "cell_type": "code",
   "execution_count": 10,
   "source": [
    "# setting up dfs\r\n",
    "census_data_df = pd.read_sql(census_sql, conn)"
   ],
   "outputs": [],
   "metadata": {}
  }
 ],
 "metadata": {
  "orig_nbformat": 4,
  "language_info": {
   "name": "python"
  }
 },
 "nbformat": 4,
 "nbformat_minor": 2
}