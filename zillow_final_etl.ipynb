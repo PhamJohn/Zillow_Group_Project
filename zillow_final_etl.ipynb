{
  "nbformat": 4,
  "nbformat_minor": 0,
  "metadata": {
    "colab": {
      "name": "zillow_final_etl.ipynb",
      "provenance": []
    },
    "kernelspec": {
      "name": "python3",
      "display_name": "Python 3"
    },
    "language_info": {
      "name": "python"
    }
  },
  "cells": [
    {
      "cell_type": "code",
      "metadata": {
        "colab": {
          "base_uri": "https://localhost:8080/"
        },
        "id": "NnmQjwqqNOrG",
        "outputId": "a61dc0b1-cf1f-40da-b69c-da68514d1ebd"
      },
      "source": [
        "import os\n",
        "# Find the latest version of spark 3.0  from http://www.apache.org/dist/spark/ and enter as the spark version\n",
        "# For example:\n",
        "# spark_version = 'spark-3.0.3'\n",
        "spark_version = 'spark-3.0.3'\n",
        "os.environ['SPARK_VERSION']=spark_version\n",
        "\n",
        "# Install Spark and Java\n",
        "!apt-get update\n",
        "!apt-get install openjdk-11-jdk-headless -qq > /dev/null\n",
        "!wget -q http://www.apache.org/dist/spark/$SPARK_VERSION/$SPARK_VERSION-bin-hadoop2.7.tgz\n",
        "!tar xf $SPARK_VERSION-bin-hadoop2.7.tgz\n",
        "!pip install -q findspark\n",
        "\n",
        "# Set Environment Variables\n",
        "import os\n",
        "os.environ[\"JAVA_HOME\"] = \"/usr/lib/jvm/java-11-openjdk-amd64\"\n",
        "os.environ[\"SPARK_HOME\"] = f\"/content/{spark_version}-bin-hadoop2.7\"\n",
        "\n",
        "# Start a SparkSession\n",
        "import findspark\n",
        "findspark.init()"
      ],
      "execution_count": 1,
      "outputs": [
        {
          "output_type": "stream",
          "text": [
            "\r0% [Working]\r            \rIgn:1 https://developer.download.nvidia.com/compute/cuda/repos/ubuntu1804/x86_64  InRelease\n",
            "\r0% [Connecting to archive.ubuntu.com] [Connecting to security.ubuntu.com] [Conn\r                                                                               \rIgn:2 https://developer.download.nvidia.com/compute/machine-learning/repos/ubuntu1804/x86_64  InRelease\n",
            "\r0% [Connecting to archive.ubuntu.com] [Connecting to security.ubuntu.com] [Conn\r                                                                               \rHit:3 https://developer.download.nvidia.com/compute/cuda/repos/ubuntu1804/x86_64  Release\n",
            "Hit:4 https://developer.download.nvidia.com/compute/machine-learning/repos/ubuntu1804/x86_64  Release\n",
            "Hit:6 http://ppa.launchpad.net/c2d4u.team/c2d4u4.0+/ubuntu bionic InRelease\n",
            "Hit:7 http://security.ubuntu.com/ubuntu bionic-security InRelease\n",
            "Hit:8 http://archive.ubuntu.com/ubuntu bionic InRelease\n",
            "Hit:10 http://ppa.launchpad.net/cran/libgit2/ubuntu bionic InRelease\n",
            "Hit:11 http://archive.ubuntu.com/ubuntu bionic-updates InRelease\n",
            "Hit:12 https://cloud.r-project.org/bin/linux/ubuntu bionic-cran40/ InRelease\n",
            "Hit:13 http://archive.ubuntu.com/ubuntu bionic-backports InRelease\n",
            "Hit:14 http://ppa.launchpad.net/deadsnakes/ppa/ubuntu bionic InRelease\n",
            "Hit:15 http://ppa.launchpad.net/graphics-drivers/ppa/ubuntu bionic InRelease\n",
            "Reading package lists... Done\n"
          ],
          "name": "stdout"
        }
      ]
    },
    {
      "cell_type": "code",
      "metadata": {
        "colab": {
          "base_uri": "https://localhost:8080/"
        },
        "id": "Quk5rcogN74j",
        "outputId": "d72f6472-3d91-438b-e889-34e9375c3636"
      },
      "source": [
        "!wget https://jdbc.postgresql.org/download/postgresql-42.2.16.jar"
      ],
      "execution_count": 2,
      "outputs": [
        {
          "output_type": "stream",
          "text": [
            "--2021-08-16 03:58:20--  https://jdbc.postgresql.org/download/postgresql-42.2.16.jar\n",
            "Resolving jdbc.postgresql.org (jdbc.postgresql.org)... 72.32.157.228, 2001:4800:3e1:1::228\n",
            "Connecting to jdbc.postgresql.org (jdbc.postgresql.org)|72.32.157.228|:443... connected.\n",
            "HTTP request sent, awaiting response... 200 OK\n",
            "Length: 1002883 (979K) [application/java-archive]\n",
            "Saving to: ‘postgresql-42.2.16.jar.2’\n",
            "\n",
            "postgresql-42.2.16. 100%[===================>] 979.38K  5.99MB/s    in 0.2s    \n",
            "\n",
            "2021-08-16 03:58:20 (5.99 MB/s) - ‘postgresql-42.2.16.jar.2’ saved [1002883/1002883]\n",
            "\n"
          ],
          "name": "stdout"
        }
      ]
    },
    {
      "cell_type": "code",
      "metadata": {
        "id": "LVW1sAdHN8oX"
      },
      "source": [
        "from pyspark.sql import SparkSession\n",
        "spark = SparkSession.builder.appName(\"CloudETL\").config(\"spark.driver.extraClassPath\",\"/content/postgresql-42.2.16.jar\").getOrCreate()"
      ],
      "execution_count": 3,
      "outputs": []
    },
    {
      "cell_type": "code",
      "metadata": {
        "id": "NAPRd7qgN_J3"
      },
      "source": [
        "# Read in data from S3 Buckets\n",
        "from pyspark import SparkFiles\n",
        "url_us_total =\"https://ucb-data-group-project-zillow-s3.s3.us-west-1.amazonaws.com/us_total_final.csv\"\n",
        "spark.sparkContext.addFile(url_us_total)\n",
        "us_total_df = spark.read.csv(SparkFiles.get(\"us_total_final.csv\"), sep=\",\", header=True, inferSchema=True)"
      ],
      "execution_count": 4,
      "outputs": []
    },
    {
      "cell_type": "code",
      "metadata": {
        "colab": {
          "base_uri": "https://localhost:8080/"
        },
        "id": "dsDtCldyObzs",
        "outputId": "bf5d1e79-66f0-436d-d4bc-3c4867c1f58a"
      },
      "source": [
        "# Show DataFrame\n",
        "us_total_df.show()"
      ],
      "execution_count": 5,
      "outputs": [
        {
          "output_type": "stream",
          "text": [
            "+--------------------+----------+---------+-------------+----------+------------+----------+----------+--------------------+---------------+\n",
            "|         region_date|      date|size_rank|  region_name|  latitude|   longitude|list_price|sale_price|list_divided_by_sale|list_minus_sale|\n",
            "+--------------------+----------+---------+-------------+----------+------------+----------+----------+--------------------+---------------+\n",
            "|unitedstates20171104|2017-11-04|        0|United States|39.7837304|-100.4458825|  275448.0|  235099.0|   85.35150010165258|        40349.0|\n",
            "|unitedstates20171111|2017-11-11|        0|United States|39.7837304|-100.4458825|  275448.0|  234750.0|   85.22479742092881|        40698.0|\n",
            "|unitedstates20171118|2017-11-18|        0|United States|39.7837304|-100.4458825|  275448.0|  235750.0|    85.5878423513694|        39698.0|\n",
            "|unitedstates20171125|2017-11-25|        0|United States|39.7837304|-100.4458825|  274975.0|  235916.0|   85.79543594872261|        39059.0|\n",
            "|unitedstates20171202|2017-12-02|        0|United States|39.7837304|-100.4458825|  274825.0|  237166.0|   86.29709815337033|        37659.0|\n",
            "|unitedstates20171209|2017-12-09|        0|United States|39.7837304|-100.4458825|  274075.0|  238591.0|    87.0531788743957|        35484.0|\n",
            "|unitedstates20171216|2017-12-16|        0|United States|39.7837304|-100.4458825|  272825.0|  238841.0|   87.54366352057178|        33984.0|\n",
            "|unitedstates20171223|2017-12-23|        0|United States|39.7837304|-100.4458825|  271575.0|  239650.0|    88.2444996778054|        31925.0|\n",
            "|unitedstates20171230|2017-12-30|        0|United States|39.7837304|-100.4458825|  270450.0|  241059.0|   89.13255684969495|        29391.0|\n",
            "|unitedstates20180106|2018-01-06|        0|United States|39.7837304|-100.4458825|  269925.0|  239447.0|   88.70871538390294|        30478.0|\n",
            "|unitedstates20180113|2018-01-13|        0|United States|39.7837304|-100.4458825|  269900.0|  238197.0|    88.2537977028529|        31703.0|\n",
            "|unitedstates20180120|2018-01-20|        0|United States|39.7837304|-100.4458825|  269925.0|  236972.0|   87.79179401685654|        32953.0|\n",
            "|unitedstates20180127|2018-01-27|        0|United States|39.7837304|-100.4458825|  270950.0|  233563.0|   86.20151319431629|        37387.0|\n",
            "|unitedstates20180203|2018-02-03|        0|United States|39.7837304|-100.4458825|  272200.0|  234250.0|   86.05804555473917|        37950.0|\n",
            "|unitedstates20180210|2018-02-10|        0|United States|39.7837304|-100.4458825|  273475.0|  233700.0|   85.45570893134656|        39775.0|\n",
            "|unitedstates20180217|2018-02-17|        0|United States|39.7837304|-100.4458825|  275725.0|  234450.0|   85.03037446731344|        41275.0|\n",
            "|unitedstates20180224|2018-02-24|        0|United States|39.7837304|-100.4458825|  277200.0|  235950.0|   85.11904761904762|        41250.0|\n",
            "|unitedstates20180303|2018-03-03|        0|United States|39.7837304|-100.4458825|  278975.0|  237700.0|   85.20476745228068|        41275.0|\n",
            "|unitedstates20180310|2018-03-10|        0|United States|39.7837304|-100.4458825|  281475.0|  239000.0|   84.90984989785949|        42475.0|\n",
            "|unitedstates20180317|2018-03-17|        0|United States|39.7837304|-100.4458825|  283975.0|  239551.0|   84.35636939871468|        44424.0|\n",
            "+--------------------+----------+---------+-------------+----------+------------+----------+----------+--------------------+---------------+\n",
            "only showing top 20 rows\n",
            "\n"
          ],
          "name": "stdout"
        }
      ]
    },
    {
      "cell_type": "code",
      "metadata": {
        "colab": {
          "base_uri": "https://localhost:8080/"
        },
        "id": "twHPxScQOkx9",
        "outputId": "da758e52-f789-4e59-f21d-f35dc2cdbaad"
      },
      "source": [
        "url_ca_state =\"https://ucb-data-group-project-zillow-s3.s3.us-west-1.amazonaws.com/ca_state_final.csv\"\n",
        "spark.sparkContext.addFile(url_ca_state)\n",
        "ca_state_df = spark.read.csv(SparkFiles.get(\"ca_state_final.csv\"), sep=\",\", header=True, inferSchema=True)\n",
        "\n",
        "# Show DataFrame\n",
        "ca_state_df.show()"
      ],
      "execution_count": 6,
      "outputs": [
        {
          "output_type": "stream",
          "text": [
            "+------------------+----------+---------+-----------+----------+-----------+----------+----------+--------------------+------------------+\n",
            "|       region_date|      date|size_rank|region_name|  latitude|  longitude|list_price|sale_price|list_divided_by_sale|   list_minus_sale|\n",
            "+------------------+----------+---------+-----------+----------+-----------+----------+----------+--------------------+------------------+\n",
            "|california20171104|2017-11-04|     36.4| California|36.7014631|-118.755997|  614123.7|  508281.3|   82.76529630756801|105842.39999999997|\n",
            "|california20171111|2017-11-11|     36.4| California|36.7014631|-118.755997|  613946.7|  514450.0|   83.79391891836865| 99496.69999999995|\n",
            "|california20171118|2017-11-18|     36.4| California|36.7014631|-118.755997|  614898.4|  516943.9|   84.06980730475149|           97954.5|\n",
            "|california20171125|2017-11-25|     36.4| California|36.7014631|-118.755997|  612118.7|  517912.7|    84.6098477305137| 94205.99999999994|\n",
            "|california20171202|2017-12-02|     36.4| California|36.7014631|-118.755997|  608753.3|  517612.8|   85.02833578068487| 91140.50000000006|\n",
            "|california20171209|2017-12-09|     36.4| California|36.7014631|-118.755997|  608399.3|  517747.5|    85.0999499835059| 90651.80000000005|\n",
            "|california20171216|2017-12-16|     36.4| California|36.7014631|-118.755997|  608267.7|  511941.2|   84.16379827500295| 96326.49999999994|\n",
            "|california20171223|2017-12-23|     36.4| California|36.7014631|-118.755997|  609372.0|  510903.7|   83.84101993527763|           98468.3|\n",
            "|california20171230|2017-12-30|     36.4| California|36.7014631|-118.755997|  611030.8|  511653.6|   83.73613899659395| 99377.20000000008|\n",
            "|california20180106|2018-01-06|     36.4| California|36.7014631|-118.755997|  609612.5|  509000.2|   83.49569603641658|          100612.3|\n",
            "|california20180113|2018-01-13|     36.4| California|36.7014631|-118.755997|  608077.2|  508910.7|   83.69179110810273| 99166.49999999994|\n",
            "|california20180120|2018-01-20|     36.4| California|36.7014631|-118.755997|  607682.7|  507343.8|   83.48827439056599|100338.89999999997|\n",
            "|california20180127|2018-01-27|     36.4| California|36.7014631|-118.755997|  609083.3|  499618.7|   82.02797548381314|109464.60000000003|\n",
            "|california20180203|2018-02-03|     36.4| California|36.7014631|-118.755997|  614276.0|  494361.3|   80.47869361655022|          119914.7|\n",
            "|california20180210|2018-02-10|     36.4| California|36.7014631|-118.755997|  619167.8|  496598.3|   80.20415467341809|122569.50000000006|\n",
            "|california20180217|2018-02-17|     36.4| California|36.7014631|-118.755997|  625491.7|  499740.2|     79.895576552015|125751.49999999994|\n",
            "|california20180224|2018-02-24|     36.4| California|36.7014631|-118.755997|  631636.3|  514771.4|   81.49807096267267|116864.90000000002|\n",
            "|california20180303|2018-03-03|     36.4| California|36.7014631|-118.755997|  636909.1|  524128.9|   82.29257518851591|112780.19999999995|\n",
            "|california20180310|2018-03-10|     36.4| California|36.7014631|-118.755997|  641876.3|  532231.4|   82.91806380762151|109644.90000000002|\n",
            "|california20180317|2018-03-17|     36.4| California|36.7014631|-118.755997|  645453.3|  537537.6|   83.28063393587111|107915.70000000008|\n",
            "+------------------+----------+---------+-----------+----------+-----------+----------+----------+--------------------+------------------+\n",
            "only showing top 20 rows\n",
            "\n"
          ],
          "name": "stdout"
        }
      ]
    },
    {
      "cell_type": "code",
      "metadata": {
        "colab": {
          "base_uri": "https://localhost:8080/"
        },
        "id": "IbbdF01GO6KW",
        "outputId": "3e336acb-65ca-45db-d6e3-03aff5294ca2"
      },
      "source": [
        "url_ca_city =\"https://ucb-data-group-project-zillow-s3.s3.us-west-1.amazonaws.com/california_city_final.csv\"\n",
        "spark.sparkContext.addFile(url_ca_city)\n",
        "ca_city_df = spark.read.csv(SparkFiles.get(\"california_city_final.csv\"), sep=\",\", header=True, inferSchema=True)\n",
        "\n",
        "# Show DataFrame\n",
        "ca_city_df.show()"
      ],
      "execution_count": 7,
      "outputs": [
        {
          "output_type": "stream",
          "text": [
            "+--------------------+----------+---------+--------------------+----------+------------+----------+----------+--------------------+---------------+\n",
            "|         region_date|      date|size_rank|         region_name|  latitude|   longitude|list_price|sale_price|list_divided_by_sale|list_minus_sale|\n",
            "+--------------------+----------+---------+--------------------+----------+------------+----------+----------+--------------------+---------------+\n",
            "|    sandiego20171104|2017-11-04|       17|       San Diego, CA|32.7174202|-117.1627728|  728005.0|  541438.0|   74.37284084587331|       186567.0|\n",
            "|sanfrancisco20171104|2017-11-04|       11|   San Francisco, CA|37.7790262| -122.419906|  867930.0|  781063.0|   89.99147396679456|        86867.0|\n",
            "|   riverside20171104|2017-11-04|       13|       Riverside, CA|33.9533546|-117.3961623|  388757.0|  342999.0|   88.22966531792353|        45758.0|\n",
            "|losangeles-longbe...|2017-11-04|        2|Los Angeles-Long ...| 33.782237|-118.1519248|  812252.0|  611250.0|   75.25373898740784|       201002.0|\n",
            "|    stockton20171104|2017-11-04|       77|        Stockton, CA|37.9577016|-121.2907796|  408007.0|  357875.0|   87.71295590516829|        50132.0|\n",
            "|     ventura20171104|2017-11-04|       66|         Ventura, CA|34.4458248|-119.0779359|  779777.0|  583688.0|   74.85319520837368|       196089.0|\n",
            "|  sacramento20171104|2017-11-04|       25|      Sacramento, CA|38.5810606| -121.493895|  466317.0|  392750.0|   84.22382199233569|        73567.0|\n",
            "| bakersfield20171104|2017-11-04|       63|     Bakersfield, CA|35.3738712|-119.0194639|  265423.0|  224375.0|   84.53487452104753|        41048.0|\n",
            "|     sanjose20171104|2017-11-04|       34|        San Jose, CA|37.3361905| -121.890583| 1086372.0|  980250.0|   90.23152290375673|       106122.0|\n",
            "|      fresno20171104|2017-11-04|       56|          Fresno, CA|36.7394421|-119.7848307|  338397.0|  267125.0|   78.93834756218287|        71272.0|\n",
            "| bakersfield20171111|2017-11-11|       63|     Bakersfield, CA|35.3738712|-119.0194639|  263917.0|  221875.0|    84.0699917019366|        42042.0|\n",
            "|     ventura20171111|2017-11-11|       66|         Ventura, CA|34.4458248|-119.0779359|  774863.0|  591813.0|   76.37646913067213|       183050.0|\n",
            "|      fresno20171111|2017-11-11|       56|          Fresno, CA|36.7394421|-119.7848307|  338397.0|  271875.0|   80.34202430872614|        66522.0|\n",
            "|    stockton20171111|2017-11-11|       77|        Stockton, CA|37.9577016|-121.2907796|  406932.0|  366375.0|   90.03346996549793|        40557.0|\n",
            "|    sandiego20171111|2017-11-11|       17|       San Diego, CA|32.7174202|-117.1627728|  725824.0|  546438.0|    75.2851931046645|       179386.0|\n",
            "|   riverside20171111|2017-11-11|       13|       Riverside, CA|33.9533546|-117.3961623|  388782.0|  346686.0|   89.17233822553513|        42096.0|\n",
            "|sanfrancisco20171111|2017-11-11|       11|   San Francisco, CA|37.7790262| -122.419906|  862817.0|  798750.0|   92.57467110638756|        64067.0|\n",
            "|losangeles-longbe...|2017-11-11|        2|Los Angeles-Long ...| 33.782237|-118.1519248|  813533.0|  612500.0|   75.28889424276582|       201033.0|\n",
            "|  sacramento20171111|2017-11-11|       25|      Sacramento, CA|38.5810606| -121.493895|  466418.0|  393188.0|   84.29949101449773|        73230.0|\n",
            "|     sanjose20171111|2017-11-11|       34|        San Jose, CA|37.3361905| -121.890583| 1097984.0|  995000.0|    90.6206283515971|       102984.0|\n",
            "+--------------------+----------+---------+--------------------+----------+------------+----------+----------+--------------------+---------------+\n",
            "only showing top 20 rows\n",
            "\n"
          ],
          "name": "stdout"
        }
      ]
    },
    {
      "cell_type": "code",
      "metadata": {
        "colab": {
          "base_uri": "https://localhost:8080/"
        },
        "id": "8-3sSMiQPL4e",
        "outputId": "21d3015d-6454-4ef8-807a-4fd63d69dcb0"
      },
      "source": [
        "# Store environmental variable\n",
        "from getpass import getpass\n",
        "password = getpass('Enter database password')\n",
        "# Configure settings for RDS\n",
        "mode = \"append\"\n",
        "jdbc_url=\"jdbc:postgresql://ucb-data-group-project-zillow.csaw135fqqkl.us-west-1.rds.amazonaws.com:5432/postgres\"\n",
        "config = {\"user\":\"postgres\",\n",
        "          \"password\": password,\n",
        "          \"driver\":\"org.postgresql.Driver\"}"
      ],
      "execution_count": 8,
      "outputs": [
        {
          "output_type": "stream",
          "text": [
            "Enter database password··········\n"
          ],
          "name": "stdout"
        }
      ]
    },
    {
      "cell_type": "code",
      "metadata": {
        "id": "SHuNvXzvQeAr"
      },
      "source": [
        "# Write DataFrame to zillow_final table in RDS\n",
        "us_total_df.write.jdbc(url=jdbc_url, table='zillow_final', mode=mode, properties=config)"
      ],
      "execution_count": 9,
      "outputs": []
    },
    {
      "cell_type": "code",
      "metadata": {
        "id": "pIwppkEoTFn2"
      },
      "source": [
        "# Write DataFrame to zillow_final table in RDS\n",
        "ca_state_df.write.jdbc(url=jdbc_url, table='zillow_final', mode=mode, properties=config)"
      ],
      "execution_count": 10,
      "outputs": []
    },
    {
      "cell_type": "code",
      "metadata": {
        "id": "Oh-d7f12WXyq"
      },
      "source": [
        "# Write DataFrame to zillow_final table in RDS\n",
        "ca_city_df.write.jdbc(url=jdbc_url, table='zillow_final', mode=mode, properties=config)"
      ],
      "execution_count": 11,
      "outputs": []
    },
    {
      "cell_type": "code",
      "metadata": {
        "id": "y2FmH4ycWa2J"
      },
      "source": [
        ""
      ],
      "execution_count": null,
      "outputs": []
    }
  ]
}